{
 "cells": [
  {
   "cell_type": "code",
   "execution_count": 1,
   "id": "9f8d6f3c-e048-4485-94c8-9e3c4a3bd663",
   "metadata": {},
   "outputs": [],
   "source": [
    "import hashlib\n",
    "import spacy\n",
    "from test import User, Dataset, TextExample\n",
    "\n",
    "nlp = spacy.load(\"en_core_web_sm\")"
   ]
  },
  {
   "cell_type": "code",
   "execution_count": 2,
   "id": "5991d25a-49ca-4f7d-b990-b0ac169744d6",
   "metadata": {},
   "outputs": [],
   "source": [
    "luke = User(username='luke',password='122224').save()\n",
    "dataset = Dataset(name='testData',created_by=luke).save()\n",
    "\n",
    "t=\"First look at the new MacBook Pro\""
   ]
  },
  {
   "cell_type": "code",
   "execution_count": 3,
   "id": "564d88e2-e90f-4261-8eb8-2cb8f5e0b603",
   "metadata": {},
   "outputs": [],
   "source": [
    "example = TextExample(text=t,dataset=dataset).save()"
   ]
  },
  {
   "cell_type": "code",
   "execution_count": 4,
   "id": "6b2f8052-650b-471f-aead-20b57cd77fd0",
   "metadata": {},
   "outputs": [],
   "source": [
    "doc = nlp(t)"
   ]
  },
  {
   "cell_type": "code",
   "execution_count": 5,
   "id": "20a5bf93-37bc-4bdf-b1d3-a84ca4dd255a",
   "metadata": {},
   "outputs": [
    {
     "data": {
      "text/plain": [
       "<spacy.vocab.Vocab at 0x1371c4430>"
      ]
     },
     "execution_count": 5,
     "metadata": {},
     "output_type": "execute_result"
    }
   ],
   "source": [
    "nlp.vocab"
   ]
  }
 ],
 "metadata": {
  "kernelspec": {
   "display_name": "Python 3",
   "language": "python",
   "name": "python3"
  },
  "language_info": {
   "codemirror_mode": {
    "name": "ipython",
    "version": 3
   },
   "file_extension": ".py",
   "mimetype": "text/x-python",
   "name": "python",
   "nbconvert_exporter": "python",
   "pygments_lexer": "ipython3",
   "version": "3.8.10"
  }
 },
 "nbformat": 4,
 "nbformat_minor": 5
}
